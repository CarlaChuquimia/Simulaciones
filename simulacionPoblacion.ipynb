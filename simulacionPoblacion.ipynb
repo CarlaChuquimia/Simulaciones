{
 "cells": [
  {
   "cell_type": "code",
   "execution_count": 15,
   "id": "af642291-89c2-4621-a4ea-283707b5c471",
   "metadata": {},
   "outputs": [],
   "source": []
  },
  {
   "cell_type": "code",
   "execution_count": 23,
   "id": "4abf57ab-189b-4575-9a5b-2c83235fe7fa",
   "metadata": {},
   "outputs": [],
   "source": [
    "def actualizar(lugar,a,b):\n",
    "    neo= [fila[:] for fila in lugar]\n",
    "    return neo\n"
   ]
  },
  {
   "cell_type": "code",
   "execution_count": 36,
   "id": "fccb5f00-eafe-4b9d-9c8a-85af010b8212",
   "metadata": {},
   "outputs": [
    {
     "name": "stdout",
     "output_type": "stream",
     "text": [
      "SIMULACION EN TIEMPO  0\n",
      "*   *   O   O   O   *   O   *   *   O   O   O   *   *   2 13\n",
      "*   O   *   |   *   O   O   O   O   *   O   O   O   O   2 13\n",
      "O   O   O   O   *   O   O   O   O   *   |   O   *   O   2 13\n",
      "O   O   O   O   *   O   O   O   O   *   |   O   *   O   2 13\n",
      "SIMULACION EN TIEMPO  1\n",
      "*   *   O   O   O   *   O   *   *   O   O   O   *   *   2 13\n",
      "*   O   *   |   *   O   O   O   O   *   O   O   O   O   2 13\n",
      "O   O   O   O   *   O   O   O   O   *   |   O   *   O   2 13\n",
      "O   O   O   O   *   O   O   O   O   *   |   O   *   O   2 13\n",
      "SIMULACION EN TIEMPO  2\n",
      "*   *   O   O   O   *   O   *   *   O   O   O   *   *   2 13\n",
      "*   O   *   |   *   O   O   O   O   *   O   O   O   O   2 13\n",
      "O   O   O   O   *   O   O   O   O   *   |   O   *   O   2 13\n",
      "O   O   O   O   *   O   O   O   O   *   |   O   *   O   2 13\n"
     ]
    }
   ],
   "source": [
    "# 0 es vacio\n",
    "# 1 es una persona\n",
    "# 2 es columna\n",
    "lugar=[\n",
    "    [1,1,0,0,0,1,0,1,1,0,0,0,1,1],\n",
    "    [1,0,1,2,1,0,0,0,0,1,0,0,0,0],\n",
    "    [0,0,0,0,1,0,0,0,0,1,2,0,1,0],\n",
    "    [0,0,0,0,1,0,0,0,0,1,2,0,1,0]]\n",
    "a=3-1\n",
    "b=len(lugar[0])-1\n",
    "for k in range(3):\n",
    "    print(\"SIMULACION EN TIEMPO \", k)\n",
    "    for i in lugar:\n",
    "        m=[]\n",
    "        for j in i:\n",
    "            if j==1:m.append('*  ')\n",
    "            elif j==0: m.append(\"O  \")\n",
    "            else: m.append(\"|  \")\n",
    "            \n",
    "        print(*m, a , b)\n",
    "    \n",
    "    lugar=actualizar(lugar, a,b)"
   ]
  },
  {
   "cell_type": "code",
   "execution_count": null,
   "id": "992a57a5-fe90-4081-ac40-a7fb1ac899b4",
   "metadata": {},
   "outputs": [],
   "source": []
  }
 ],
 "metadata": {
  "kernelspec": {
   "display_name": "Python 3 (ipykernel)",
   "language": "python",
   "name": "python3"
  },
  "language_info": {
   "codemirror_mode": {
    "name": "ipython",
    "version": 3
   },
   "file_extension": ".py",
   "mimetype": "text/x-python",
   "name": "python",
   "nbconvert_exporter": "python",
   "pygments_lexer": "ipython3",
   "version": "3.11.9"
  }
 },
 "nbformat": 4,
 "nbformat_minor": 5
}
